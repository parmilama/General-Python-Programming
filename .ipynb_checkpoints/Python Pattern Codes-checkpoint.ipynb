{
 "cells": [
  {
   "cell_type": "markdown",
   "id": "1938b426",
   "metadata": {},
   "source": [
    "## Star Patterns"
   ]
  },
  {
   "cell_type": "markdown",
   "id": "3dfa25eb",
   "metadata": {},
   "source": [
    "##### Full Square"
   ]
  },
  {
   "cell_type": "code",
   "execution_count": 66,
   "id": "70162a02",
   "metadata": {},
   "outputs": [],
   "source": [
    "def print_full_square(n):\n",
    "    for i in range(n):\n",
    "        print(n*\"* \",end = \"\")\n",
    "        print()\n",
    "        "
   ]
  },
  {
   "cell_type": "code",
   "execution_count": 51,
   "id": "bb37fd90",
   "metadata": {},
   "outputs": [
    {
     "name": "stdout",
     "output_type": "stream",
     "text": [
      "* * * * * \n",
      "* * * * * \n",
      "* * * * * \n",
      "* * * * * \n",
      "* * * * * \n"
     ]
    }
   ],
   "source": [
    "print_full_square(5)"
   ]
  },
  {
   "cell_type": "markdown",
   "id": "08310691",
   "metadata": {},
   "source": [
    "##### Hollow Square"
   ]
  },
  {
   "cell_type": "code",
   "execution_count": 52,
   "id": "9edba8c3",
   "metadata": {},
   "outputs": [],
   "source": [
    "def print_hollow_square(n):\n",
    "    for i in range(n):\n",
    "        for j in range(n):\n",
    "            if i == 0 or i == (n-1) or j == 0 or j == (n-1):\n",
    "                print(\"* \",end=\"\")\n",
    "            else:\n",
    "                print(\"  \",end=\"\")\n",
    "        print()"
   ]
  },
  {
   "cell_type": "code",
   "execution_count": 54,
   "id": "8558250f",
   "metadata": {},
   "outputs": [
    {
     "name": "stdout",
     "output_type": "stream",
     "text": [
      "* * * * * \n",
      "*       * \n",
      "*       * \n",
      "*       * \n",
      "* * * * * \n"
     ]
    }
   ],
   "source": [
    "print_hollow_square(5)"
   ]
  },
  {
   "cell_type": "markdown",
   "id": "50b06875",
   "metadata": {},
   "source": [
    "##### Half Pyramid"
   ]
  },
  {
   "cell_type": "code",
   "execution_count": 1,
   "id": "fe48e755",
   "metadata": {},
   "outputs": [],
   "source": [
    "def print_half_pyramid(n):\n",
    "    for i in range(1,n+1):\n",
    "        print(i*\"*\")\n",
    "        "
   ]
  },
  {
   "cell_type": "code",
   "execution_count": 2,
   "id": "854f1ca3",
   "metadata": {},
   "outputs": [
    {
     "name": "stdout",
     "output_type": "stream",
     "text": [
      "*\n",
      "**\n",
      "***\n",
      "****\n",
      "*****\n"
     ]
    }
   ],
   "source": [
    "print_half_pyramid(5)"
   ]
  },
  {
   "cell_type": "markdown",
   "id": "5b870343",
   "metadata": {},
   "source": [
    "##### Inverted Half Pyramid"
   ]
  },
  {
   "cell_type": "code",
   "execution_count": 3,
   "id": "07186383",
   "metadata": {},
   "outputs": [],
   "source": [
    "def print_inverted_half_pyramid(n):\n",
    "    for i in range(n,0,-1):\n",
    "        print(i*\"*\")\n",
    "        "
   ]
  },
  {
   "cell_type": "code",
   "execution_count": 4,
   "id": "19ce3499",
   "metadata": {},
   "outputs": [
    {
     "name": "stdout",
     "output_type": "stream",
     "text": [
      "*****\n",
      "****\n",
      "***\n",
      "**\n",
      "*\n"
     ]
    }
   ],
   "source": [
    "print_inverted_half_pyramid(5)"
   ]
  },
  {
   "cell_type": "markdown",
   "id": "1d495f91",
   "metadata": {},
   "source": [
    "##### Full Pyramid"
   ]
  },
  {
   "cell_type": "code",
   "execution_count": 55,
   "id": "f3eac18e",
   "metadata": {},
   "outputs": [],
   "source": [
    "def print_full_pyramid(n):\n",
    "    for i in range(1,n+1):\n",
    "        print((n-i)*\" \"+\"* \"*i)"
   ]
  },
  {
   "cell_type": "code",
   "execution_count": 56,
   "id": "66042e78",
   "metadata": {},
   "outputs": [
    {
     "name": "stdout",
     "output_type": "stream",
     "text": [
      "    * \n",
      "   * * \n",
      "  * * * \n",
      " * * * * \n",
      "* * * * * \n"
     ]
    }
   ],
   "source": [
    "print_full_pyramid(5)"
   ]
  },
  {
   "cell_type": "markdown",
   "id": "76425bf9",
   "metadata": {},
   "source": [
    "##### Inverted Full Pyramid"
   ]
  },
  {
   "cell_type": "code",
   "execution_count": 57,
   "id": "916a8d43",
   "metadata": {},
   "outputs": [],
   "source": [
    "def print_inverted_full_pyramid(n):\n",
    "    for i in range(n,0,-1):\n",
    "        print((n-i)*\" \"+i*\"* \")\n",
    "        "
   ]
  },
  {
   "cell_type": "code",
   "execution_count": 58,
   "id": "62830121",
   "metadata": {},
   "outputs": [
    {
     "name": "stdout",
     "output_type": "stream",
     "text": [
      "* * * * * \n",
      " * * * * \n",
      "  * * * \n",
      "   * * \n",
      "    * \n"
     ]
    }
   ],
   "source": [
    "print_inverted_full_pyramid(5)"
   ]
  },
  {
   "cell_type": "markdown",
   "id": "936bd777",
   "metadata": {},
   "source": [
    "##### Dimaond Pyramid"
   ]
  },
  {
   "cell_type": "code",
   "execution_count": 60,
   "id": "4e2adca5",
   "metadata": {},
   "outputs": [],
   "source": [
    "def print_diamond_pyramid(n):\n",
    "    for i in range(n):\n",
    "        print((n-i)*\" \"+(2*i+1)*\"*\")\n",
    "    for j in range(n-2,-1,-1):\n",
    "        print((n-j)*\" \"+(2*j+1)*\"*\")"
   ]
  },
  {
   "cell_type": "code",
   "execution_count": 62,
   "id": "da734ebf",
   "metadata": {},
   "outputs": [
    {
     "name": "stdout",
     "output_type": "stream",
     "text": [
      "     *\n",
      "    ***\n",
      "   *****\n",
      "  *******\n",
      " *********\n",
      "  *******\n",
      "   *****\n",
      "    ***\n",
      "     *\n"
     ]
    }
   ],
   "source": [
    "print_diamond_pyramid(5)"
   ]
  },
  {
   "cell_type": "markdown",
   "id": "5791f338",
   "metadata": {},
   "source": [
    "## Number Patterns"
   ]
  },
  {
   "cell_type": "markdown",
   "id": "a08fe45f",
   "metadata": {},
   "source": [
    "##### Half Pyramid"
   ]
  },
  {
   "cell_type": "code",
   "execution_count": 46,
   "id": "b173a042",
   "metadata": {},
   "outputs": [],
   "source": [
    "def print_half_number_pyramid(n):\n",
    "    for i in range(1,n+1):\n",
    "        counter=1\n",
    "        for j in range(1,i+1):\n",
    "            print(j,end=\" \")\n",
    "        print()\n",
    "        "
   ]
  },
  {
   "cell_type": "code",
   "execution_count": null,
   "id": "264c0bd2",
   "metadata": {},
   "outputs": [],
   "source": []
  },
  {
   "cell_type": "code",
   "execution_count": 47,
   "id": "e7c21407",
   "metadata": {},
   "outputs": [
    {
     "name": "stdout",
     "output_type": "stream",
     "text": [
      "1 \n",
      "1 2 \n",
      "1 2 3 \n",
      "1 2 3 4 \n",
      "1 2 3 4 5 \n"
     ]
    }
   ],
   "source": [
    "print_half_number_pyramid(5)"
   ]
  },
  {
   "cell_type": "code",
   "execution_count": 7,
   "id": "ae623cc9",
   "metadata": {},
   "outputs": [],
   "source": [
    "def print_inverted_half_number_pyramid(n):\n",
    "    for i in range(n,0,-1):\n",
    "        counter=1\n",
    "        for j in range(1,i+1):\n",
    "            print(j,end=\" \")\n",
    "        print()\n",
    "        "
   ]
  },
  {
   "cell_type": "code",
   "execution_count": 8,
   "id": "466bd41b",
   "metadata": {},
   "outputs": [
    {
     "name": "stdout",
     "output_type": "stream",
     "text": [
      "1 2 3 4 \n",
      "1 2 3 \n",
      "1 2 \n",
      "1 \n"
     ]
    }
   ],
   "source": [
    "print_inverted_half_number_pyramid(4)"
   ]
  },
  {
   "cell_type": "markdown",
   "id": "9c1e78d7",
   "metadata": {},
   "source": [
    "Half Pyramid using Aphabets"
   ]
  },
  {
   "cell_type": "code",
   "execution_count": 9,
   "id": "9c421196",
   "metadata": {},
   "outputs": [],
   "source": [
    "def print_Alphabet_Half_Pyramid(n):\n",
    "    asc_value = 65\n",
    "    for i in range(1,n+1):\n",
    "        print(i*chr(asc_value))\n",
    "        asc_value+=1"
   ]
  },
  {
   "cell_type": "code",
   "execution_count": 10,
   "id": "2c7669cf",
   "metadata": {},
   "outputs": [
    {
     "name": "stdout",
     "output_type": "stream",
     "text": [
      "A\n",
      "BB\n",
      "CCC\n",
      "DDDD\n",
      "EEEEE\n",
      "FFFFFF\n"
     ]
    }
   ],
   "source": [
    "print_Alphabet_Half_Pyramid(6)"
   ]
  },
  {
   "cell_type": "markdown",
   "id": "47b6f6b3",
   "metadata": {},
   "source": [
    "Print number full pyramid"
   ]
  },
  {
   "cell_type": "code",
   "execution_count": 17,
   "id": "7e659db8",
   "metadata": {},
   "outputs": [
    {
     "name": "stdout",
     "output_type": "stream",
     "text": [
      "Enter number of rows: 3\n",
      "    1 \n",
      "  2 3 2 \n",
      "3 4 5 4 3 \n"
     ]
    }
   ],
   "source": [
    "rows = int(input(\"Enter number of rows: \"))\n",
    "\n",
    "k = 0\n",
    "count=0\n",
    "count1=0\n",
    "\n",
    "for i in range(1, rows+1):\n",
    "    for space in range(1, (rows-i)+1):\n",
    "        print(\"  \", end=\"\")\n",
    "        count+=1\n",
    "    \n",
    "    while k!=((2*i)-1):\n",
    "        if count<=rows-1:\n",
    "            print(i+k, end=\" \")\n",
    "            count+=1\n",
    "        else:\n",
    "            count1+=1\n",
    "            print(i+k-(2*count1), end=\" \")\n",
    "        k += 1\n",
    "    \n",
    "    count1 = count = k = 0\n",
    "    print()"
   ]
  },
  {
   "cell_type": "code",
   "execution_count": 18,
   "id": "c2fbb114",
   "metadata": {},
   "outputs": [],
   "source": [
    "def print_number_full_pyramid(n):\n",
    "    k = 0\n",
    "    c = 0\n",
    "    c1 = 0\n",
    "    for i in range(1,n+1):\n",
    "        print((n-i)*\" \",end=\"\")\n",
    "        c+=(n-i)\n",
    "        while k!=((2*i) - 1):\n",
    "            if c <= n-1:\n",
    "                print(i+k,end=\"\")\n",
    "                c+=1\n",
    "            else:\n",
    "                c1+=1\n",
    "                print(i+k - (2*c1),end=\"\")\n",
    "            k+=1\n",
    "        c=c1=k=0\n",
    "        print()"
   ]
  },
  {
   "cell_type": "code",
   "execution_count": 19,
   "id": "44435e6b",
   "metadata": {},
   "outputs": [
    {
     "name": "stdout",
     "output_type": "stream",
     "text": [
      "    1\n",
      "   232\n",
      "  34543\n",
      " 4567654\n",
      "567898765\n"
     ]
    }
   ],
   "source": [
    "print_number_full_pyramid(5)"
   ]
  },
  {
   "cell_type": "markdown",
   "id": "4f2bf761",
   "metadata": {},
   "source": [
    "Print Pascal Triangle"
   ]
  },
  {
   "cell_type": "code",
   "execution_count": 20,
   "id": "e254ddf2",
   "metadata": {},
   "outputs": [],
   "source": [
    "def print_pascal_triangle(n):\n",
    "    coef = 1\n",
    "    for i in range(1,n+1):\n",
    "        print((n-i)*\" \",end=\"\")\n",
    "        for j in range(0,i):\n",
    "            if j==0 or i==0:\n",
    "                coef = 1\n",
    "            else:\n",
    "                coef = coef*(i-j)//j\n",
    "            print(coef,end=\" \")\n",
    "        print()"
   ]
  },
  {
   "cell_type": "code",
   "execution_count": 21,
   "id": "8b5d3568",
   "metadata": {},
   "outputs": [
    {
     "name": "stdout",
     "output_type": "stream",
     "text": [
      "    1 \n",
      "   1 1 \n",
      "  1 2 1 \n",
      " 1 3 3 1 \n",
      "1 4 6 4 1 \n"
     ]
    }
   ],
   "source": [
    "print_pascal_triangle(5)"
   ]
  },
  {
   "cell_type": "code",
   "execution_count": 22,
   "id": "a933f983",
   "metadata": {},
   "outputs": [
    {
     "name": "stdout",
     "output_type": "stream",
     "text": [
      "Enter Diamond Number Pattern Rows = 3\n",
      "====Diamond Number Pattern====\n",
      "  1\n",
      " 123\n",
      "12345\n",
      " 123\n",
      "  1\n"
     ]
    }
   ],
   "source": [
    "rows = int(input(\"Enter Diamond Number Pattern Rows = \"))\n",
    "\n",
    "print(\"====Diamond Number Pattern====\")\n",
    "\n",
    "for i in range(1, rows + 1):\n",
    "    for j in range(1, rows - i + 1):\n",
    "        print(end = ' ')\n",
    "    for k in range(1, (2 * i)):\n",
    "        print(k, end = '')\n",
    "    print()\n",
    "\n",
    "for i in range(rows - 1, 0, -1):\n",
    "    for j in range(1, (rows - i + 1)):\n",
    "        print(end = ' ')\n",
    "    for k in range(1, (2 * i)):\n",
    "        print(k, end = '')\n",
    "    print()\n"
   ]
  },
  {
   "cell_type": "code",
   "execution_count": null,
   "id": "4e69e15c",
   "metadata": {},
   "outputs": [],
   "source": []
  },
  {
   "cell_type": "code",
   "execution_count": null,
   "id": "87a3ffe9",
   "metadata": {},
   "outputs": [],
   "source": []
  },
  {
   "cell_type": "code",
   "execution_count": null,
   "id": "1b38d2c0",
   "metadata": {},
   "outputs": [],
   "source": []
  }
 ],
 "metadata": {
  "kernelspec": {
   "display_name": "Python 3",
   "language": "python",
   "name": "python3"
  },
  "language_info": {
   "codemirror_mode": {
    "name": "ipython",
    "version": 3
   },
   "file_extension": ".py",
   "mimetype": "text/x-python",
   "name": "python",
   "nbconvert_exporter": "python",
   "pygments_lexer": "ipython3",
   "version": "3.8.8"
  }
 },
 "nbformat": 4,
 "nbformat_minor": 5
}
