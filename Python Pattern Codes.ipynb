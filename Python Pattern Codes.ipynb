{
 "cells": [
  {
   "cell_type": "markdown",
   "id": "2d6c0204",
   "metadata": {},
   "source": [
    "## Patterns with Asterisk (*)"
   ]
  },
  {
   "cell_type": "markdown",
   "id": "64ea868d",
   "metadata": {},
   "source": [
    "##### Full Square"
   ]
  },
  {
   "cell_type": "code",
   "execution_count": 1,
   "id": "a042f51f",
   "metadata": {},
   "outputs": [],
   "source": [
    "def print_full_square(n):\n",
    "    for i in range(n):\n",
    "        print(n*\"* \",end = \"\")\n",
    "        print()\n",
    "        "
   ]
  },
  {
   "cell_type": "code",
   "execution_count": 2,
   "id": "da594eda",
   "metadata": {},
   "outputs": [
    {
     "name": "stdout",
     "output_type": "stream",
     "text": [
      "* * * * * \n",
      "* * * * * \n",
      "* * * * * \n",
      "* * * * * \n",
      "* * * * * \n"
     ]
    }
   ],
   "source": [
    "print_full_square(5)"
   ]
  },
  {
   "cell_type": "markdown",
   "id": "ae346667",
   "metadata": {},
   "source": [
    "##### Hollow Square"
   ]
  },
  {
   "cell_type": "code",
   "execution_count": 131,
   "id": "0d64a6d6",
   "metadata": {},
   "outputs": [],
   "source": [
    "def print_hollow_square(n):\n",
    "    for i in range(n):\n",
    "        for j in range(n):\n",
    "            if i == 0 or i == (n-1) or j == 0 or j == (n-1):\n",
    "                print(\"* \",end=\"\")\n",
    "            else:\n",
    "                print(\"  \",end=\"\")\n",
    "        print()"
   ]
  },
  {
   "cell_type": "code",
   "execution_count": 132,
   "id": "a690dcec",
   "metadata": {},
   "outputs": [
    {
     "name": "stdout",
     "output_type": "stream",
     "text": [
      "* * * * * \n",
      "*       * \n",
      "*       * \n",
      "*       * \n",
      "* * * * * \n"
     ]
    }
   ],
   "source": [
    "print_hollow_square(5)"
   ]
  },
  {
   "cell_type": "markdown",
   "id": "50b06875",
   "metadata": {},
   "source": [
    "##### Half Pyramid"
   ]
  },
  {
   "cell_type": "code",
   "execution_count": 5,
   "id": "fe48e755",
   "metadata": {},
   "outputs": [],
   "source": [
    "def print_half_pyramid(n):\n",
    "    for i in range(1,n+1):\n",
    "        print(i*\"*\")\n",
    "        "
   ]
  },
  {
   "cell_type": "code",
   "execution_count": 6,
   "id": "854f1ca3",
   "metadata": {},
   "outputs": [
    {
     "name": "stdout",
     "output_type": "stream",
     "text": [
      "*\n",
      "**\n",
      "***\n",
      "****\n",
      "*****\n"
     ]
    }
   ],
   "source": [
    "print_half_pyramid(5)"
   ]
  },
  {
   "cell_type": "markdown",
   "id": "5b870343",
   "metadata": {},
   "source": [
    "##### Inverted Half Pyramid"
   ]
  },
  {
   "cell_type": "code",
   "execution_count": 7,
   "id": "07186383",
   "metadata": {},
   "outputs": [],
   "source": [
    "def print_inverted_half_pyramid(n):\n",
    "    for i in range(n,0,-1):\n",
    "        print(i*\"*\")\n",
    "        "
   ]
  },
  {
   "cell_type": "code",
   "execution_count": 8,
   "id": "19ce3499",
   "metadata": {},
   "outputs": [
    {
     "name": "stdout",
     "output_type": "stream",
     "text": [
      "*****\n",
      "****\n",
      "***\n",
      "**\n",
      "*\n"
     ]
    }
   ],
   "source": [
    "print_inverted_half_pyramid(5)"
   ]
  },
  {
   "cell_type": "markdown",
   "id": "a26afb41",
   "metadata": {},
   "source": [
    "##### Full Pyramid"
   ]
  },
  {
   "cell_type": "code",
   "execution_count": 9,
   "id": "58bb841c",
   "metadata": {},
   "outputs": [],
   "source": [
    "def print_full_pyramid(n):\n",
    "    for i in range(1,n+1):\n",
    "        print((n-i)*\" \"+\"* \"*i)"
   ]
  },
  {
   "cell_type": "code",
   "execution_count": 10,
   "id": "80dc104b",
   "metadata": {},
   "outputs": [
    {
     "name": "stdout",
     "output_type": "stream",
     "text": [
      "    * \n",
      "   * * \n",
      "  * * * \n",
      " * * * * \n",
      "* * * * * \n"
     ]
    }
   ],
   "source": [
    "print_full_pyramid(5)"
   ]
  },
  {
   "cell_type": "markdown",
   "id": "e16f06cc",
   "metadata": {},
   "source": [
    "##### Inverted Full Pyramid"
   ]
  },
  {
   "cell_type": "code",
   "execution_count": 11,
   "id": "f4d41baf",
   "metadata": {},
   "outputs": [],
   "source": [
    "def print_inverted_full_pyramid(n):\n",
    "    for i in range(n,0,-1):\n",
    "        print((n-i)*\" \"+i*\"* \")\n",
    "        "
   ]
  },
  {
   "cell_type": "code",
   "execution_count": 12,
   "id": "27726320",
   "metadata": {},
   "outputs": [
    {
     "name": "stdout",
     "output_type": "stream",
     "text": [
      "* * * * * \n",
      " * * * * \n",
      "  * * * \n",
      "   * * \n",
      "    * \n"
     ]
    }
   ],
   "source": [
    "print_inverted_full_pyramid(5)"
   ]
  },
  {
   "cell_type": "markdown",
   "id": "ebb5caf7",
   "metadata": {},
   "source": [
    "##### Dimaond Pyramid"
   ]
  },
  {
   "cell_type": "code",
   "execution_count": 13,
   "id": "3abcb2bb",
   "metadata": {},
   "outputs": [],
   "source": [
    "def print_diamond_pyramid(n):\n",
    "    for i in range(n):\n",
    "        print((n-i)*\" \"+(2*i+1)*\"*\")\n",
    "    for j in range(n-2,-1,-1):\n",
    "        print((n-j)*\" \"+(2*j+1)*\"*\")"
   ]
  },
  {
   "cell_type": "code",
   "execution_count": 14,
   "id": "22368b86",
   "metadata": {},
   "outputs": [
    {
     "name": "stdout",
     "output_type": "stream",
     "text": [
      "     *\n",
      "    ***\n",
      "   *****\n",
      "  *******\n",
      " *********\n",
      "  *******\n",
      "   *****\n",
      "    ***\n",
      "     *\n"
     ]
    }
   ],
   "source": [
    "print_diamond_pyramid(5)"
   ]
  },
  {
   "cell_type": "markdown",
   "id": "f9a260c0",
   "metadata": {},
   "source": [
    "## Patterns with Numbers"
   ]
  },
  {
   "cell_type": "markdown",
   "id": "80976fa4",
   "metadata": {},
   "source": [
    "##### Half Pyramid Using Numbers"
   ]
  },
  {
   "cell_type": "code",
   "execution_count": 15,
   "id": "fbb73619",
   "metadata": {},
   "outputs": [],
   "source": [
    "def print_half_number_pyramid(n):\n",
    "    for i in range(1,n+1):\n",
    "        counter=1\n",
    "        for j in range(1,i+1):\n",
    "            print(j,end=\" \")\n",
    "        print()\n",
    "        "
   ]
  },
  {
   "cell_type": "code",
   "execution_count": 16,
   "id": "a26b61c5",
   "metadata": {},
   "outputs": [
    {
     "name": "stdout",
     "output_type": "stream",
     "text": [
      "1 \n",
      "1 2 \n",
      "1 2 3 \n",
      "1 2 3 4 \n",
      "1 2 3 4 5 \n"
     ]
    }
   ],
   "source": [
    "print_half_number_pyramid(5)"
   ]
  },
  {
   "cell_type": "markdown",
   "id": "9ac8df50",
   "metadata": {},
   "source": [
    "##### Inverted Half Pyramid Using Numbers"
   ]
  },
  {
   "cell_type": "code",
   "execution_count": 17,
   "id": "ae623cc9",
   "metadata": {},
   "outputs": [],
   "source": [
    "def print_inverted_half_number_pyramid(n):\n",
    "    for i in range(n,0,-1):\n",
    "        counter=1\n",
    "        for j in range(1,i+1):\n",
    "            print(j,end=\" \")\n",
    "        print()\n",
    "        "
   ]
  },
  {
   "cell_type": "code",
   "execution_count": 18,
   "id": "466bd41b",
   "metadata": {},
   "outputs": [
    {
     "name": "stdout",
     "output_type": "stream",
     "text": [
      "1 2 3 4 5 \n",
      "1 2 3 4 \n",
      "1 2 3 \n",
      "1 2 \n",
      "1 \n"
     ]
    }
   ],
   "source": [
    "print_inverted_half_number_pyramid(5)"
   ]
  },
  {
   "cell_type": "markdown",
   "id": "47b6f6b3",
   "metadata": {},
   "source": [
    "##### Full pyramid Using Numbers"
   ]
  },
  {
   "cell_type": "code",
   "execution_count": 21,
   "id": "c2fbb114",
   "metadata": {},
   "outputs": [],
   "source": [
    "def print_number_full_pyramid(n):\n",
    "    k = 0\n",
    "    c = 0\n",
    "    c1 = 0\n",
    "    for i in range(1,n+1):\n",
    "        print((n-i)*\" \",end=\"\")\n",
    "        c+=(n-i)\n",
    "        while k!=((2*i) - 1):\n",
    "            if c <= n-1:\n",
    "                print(i+k,end=\"\")\n",
    "                c+=1\n",
    "            else:\n",
    "                c1+=1\n",
    "                print(i+k - (2*c1),end=\"\")\n",
    "            k+=1\n",
    "        c=c1=k=0\n",
    "        print()"
   ]
  },
  {
   "cell_type": "code",
   "execution_count": 22,
   "id": "44435e6b",
   "metadata": {},
   "outputs": [
    {
     "name": "stdout",
     "output_type": "stream",
     "text": [
      "    1\n",
      "   232\n",
      "  34543\n",
      " 4567654\n",
      "567898765\n"
     ]
    }
   ],
   "source": [
    "print_number_full_pyramid(5)"
   ]
  },
  {
   "cell_type": "markdown",
   "id": "4f2bf761",
   "metadata": {},
   "source": [
    "###### Print Pascal Triangle"
   ]
  },
  {
   "cell_type": "code",
   "execution_count": 23,
   "id": "e254ddf2",
   "metadata": {},
   "outputs": [],
   "source": [
    "def print_pascal_triangle(n):\n",
    "    coef = 1\n",
    "    for i in range(1,n+1):\n",
    "        print((n-i)*\" \",end=\"\")\n",
    "        for j in range(0,i):\n",
    "            if j==0 or i==0:\n",
    "                coef = 1\n",
    "            else:\n",
    "                coef = coef*(i-j)//j\n",
    "            print(coef,end=\" \")\n",
    "        print()"
   ]
  },
  {
   "cell_type": "code",
   "execution_count": 24,
   "id": "8b5d3568",
   "metadata": {},
   "outputs": [
    {
     "name": "stdout",
     "output_type": "stream",
     "text": [
      "    1 \n",
      "   1 1 \n",
      "  1 2 1 \n",
      " 1 3 3 1 \n",
      "1 4 6 4 1 \n"
     ]
    }
   ],
   "source": [
    "print_pascal_triangle(5)"
   ]
  },
  {
   "cell_type": "code",
   "execution_count": 33,
   "id": "a933f983",
   "metadata": {},
   "outputs": [],
   "source": [
    "#rows = int(input(\"Enter Diamond Number Pattern Rows = \"))\n",
    "\n",
    "#print(\"====Diamond Number Pattern====\")\n",
    "def print_number_diamond(rows):\n",
    "    for i in range(1, rows + 1):\n",
    "        for j in range(1, rows - i + 1):\n",
    "            print(end = ' ')\n",
    "        for k in range(1, (2 * i)):\n",
    "            print(k, end = '')\n",
    "        print()\n",
    "\n",
    "    for i in range(rows - 1, 0, -1):\n",
    "        for j in range(1, (rows - i + 1)):\n",
    "            print(end = ' ')\n",
    "        for k in range(1, (2 * i)):\n",
    "            print(k, end = '')\n",
    "        print()\n"
   ]
  },
  {
   "cell_type": "code",
   "execution_count": 34,
   "id": "4e69e15c",
   "metadata": {},
   "outputs": [
    {
     "name": "stdout",
     "output_type": "stream",
     "text": [
      "    1\n",
      "   123\n",
      "  12345\n",
      " 1234567\n",
      "123456789\n",
      " 1234567\n",
      "  12345\n",
      "   123\n",
      "    1\n"
     ]
    }
   ],
   "source": [
    "print_number_diamond(5)"
   ]
  },
  {
   "cell_type": "markdown",
   "id": "b0222099",
   "metadata": {},
   "source": [
    "## Patterns with Alphabets"
   ]
  },
  {
   "cell_type": "markdown",
   "id": "786efc73",
   "metadata": {},
   "source": [
    "##### Half Pyramid With Alphabets"
   ]
  },
  {
   "cell_type": "code",
   "execution_count": 35,
   "id": "c5fe2b82",
   "metadata": {},
   "outputs": [],
   "source": [
    "def print_Alphabet_Half_Pyramid(n):\n",
    "    asc_value = 65\n",
    "    for i in range(1,n+1):\n",
    "        print(i*chr(asc_value))\n",
    "        asc_value+=1"
   ]
  },
  {
   "cell_type": "code",
   "execution_count": 36,
   "id": "4eef0951",
   "metadata": {},
   "outputs": [
    {
     "name": "stdout",
     "output_type": "stream",
     "text": [
      "A\n",
      "BB\n",
      "CCC\n",
      "DDDD\n",
      "EEEEE\n"
     ]
    }
   ],
   "source": [
    "print_Alphabet_Half_Pyramid(5)"
   ]
  },
  {
   "cell_type": "code",
   "execution_count": null,
   "id": "6b534b82",
   "metadata": {},
   "outputs": [],
   "source": []
  }
 ],
 "metadata": {
  "kernelspec": {
   "display_name": "Python 3",
   "language": "python",
   "name": "python3"
  },
  "language_info": {
   "codemirror_mode": {
    "name": "ipython",
    "version": 3
   },
   "file_extension": ".py",
   "mimetype": "text/x-python",
   "name": "python",
   "nbconvert_exporter": "python",
   "pygments_lexer": "ipython3",
   "version": "3.8.8"
  }
 },
 "nbformat": 4,
 "nbformat_minor": 5
}
